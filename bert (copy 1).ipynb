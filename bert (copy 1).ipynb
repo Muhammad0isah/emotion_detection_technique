{
 "cells": [
  {
   "cell_type": "markdown",
   "metadata": {
    "colab_type": "text",
    "id": "gS1TV7cOYnWM"
   },
   "source": [
    "# Emotion Classification in short texts with BERT\n",
    "\n",
    "Applying BERT to the problem of multiclass text classification. Our dataset consists of written dialogs, messages and short stories. Each dialog utterance/message is labeled with one of the five emotion categories: joy, anger, sadness, fear, neutral. \n",
    "\n",
    "## Workflow: \n",
    "1. Import Data\n",
    "2. Data preprocessing and downloading BERT\n",
    "3. Training and validation\n",
    "4. Saving the model\n",
    "\n",
    "Multiclass text classification with BERT and [ktrain](https://github.com/amaiya/ktrain). Use google colab for a free GPU \n",
    "\n",
    "👋  **Let's start** "
   ]
  },
  {
   "cell_type": "code",
   "outputs": [],
   "source": [
    "!pip install ktrain\n",
    "!pip install tensorflow\n"
   ],
   "metadata": {
    "collapsed": false
   }
  },
  {
   "cell_type": "code",
   "outputs": [],
   "source": [
    "\n",
    "import os\n",
    "os.environ['TF_USE_LEGACY_KERAS'] = 'True'"
   ],
   "metadata": {
    "colab": {
     "base_uri": "https://localhost:8080/",
     "height": 819
    },
    "colab_type": "code",
    "id": "3ckm3TIdYnxF",
    "outputId": "e466435e-bfae-4312-e17b-63f4c76e15c9",
    "ExecuteTime": {
     "end_time": "2024-07-19T12:21:31.266741Z",
     "start_time": "2024-07-19T12:21:31.251073Z"
    }
   },
   "execution_count": 1
  },
  {
   "cell_type": "code",
   "execution_count": 2,
   "metadata": {
    "colab": {
     "base_uri": "https://localhost:8080/",
     "height": 97
    },
    "colab_type": "code",
    "id": "FYJa3hJiYnWP",
    "outputId": "0f7f0dec-cdf8-48a5-fe4c-fb7695f76856",
    "ExecuteTime": {
     "end_time": "2024-07-19T12:21:33.627958Z",
     "start_time": "2024-07-19T12:21:31.943334Z"
    }
   },
   "outputs": [],
   "source": [
    "import pandas as pd\n",
    "import numpy as np\n",
    "\n"
   ]
  },
  {
   "cell_type": "code",
   "outputs": [
    {
     "name": "stdout",
     "output_type": "stream",
     "text": [
      "WARNING:tensorflow:From C:\\Users\\hp\\PycharmProjects\\HealthRiskPredictor\\.venv\\Lib\\site-packages\\tf_keras\\src\\losses.py:2976: The name tf.losses.sparse_softmax_cross_entropy is deprecated. Please use tf.compat.v1.losses.sparse_softmax_cross_entropy instead.\n"
     ]
    }
   ],
   "source": [
    "import ktrain\n",
    "from ktrain import text"
   ],
   "metadata": {
    "collapsed": false,
    "ExecuteTime": {
     "end_time": "2024-07-19T12:22:01.162705Z",
     "start_time": "2024-07-19T12:21:33.632064Z"
    }
   },
   "execution_count": 3
  },
  {
   "cell_type": "code",
   "outputs": [],
   "source": [
    "data = pd.read_csv(\"data/Annotated ABSA with Emotions Dataset.csv\")\n",
    "\n",
    "def merge_emotions(emotion):\n",
    "    if emotion in ['Anger', 'Disgust', 'Fear', 'Sadness']:\n",
    "        return 'Anger'\n",
    "    elif emotion == 'Joy':\n",
    "        return 'Joy'\n",
    "    else:  # 'Surprise'\n",
    "        return 'Surprise'\n",
    "# Apply the function to the 'Emotion Class' column\n",
    "data['Emotion'] = data['Emotion'].apply(merge_emotions)\n"
   ],
   "metadata": {
    "collapsed": false,
    "ExecuteTime": {
     "end_time": "2024-07-19T12:22:01.217990Z",
     "start_time": "2024-07-19T12:22:01.166842Z"
    }
   },
   "execution_count": 4
  },
  {
   "cell_type": "code",
   "outputs": [
    {
     "data": {
      "text/plain": "Emotion\nJoy         3132\nAnger       1501\nSurprise     199\nName: count, dtype: int64"
     },
     "execution_count": 6,
     "metadata": {},
     "output_type": "execute_result"
    }
   ],
   "source": [
    "data['Emotion'].value_counts()\n"
   ],
   "metadata": {
    "collapsed": false,
    "ExecuteTime": {
     "end_time": "2024-07-19T12:22:01.325174Z",
     "start_time": "2024-07-19T12:22:01.249015Z"
    }
   },
   "execution_count": 6
  },
  {
   "cell_type": "code",
   "outputs": [],
   "source": [
    "from sklearn.model_selection import train_test_split\n",
    "\n",
    "data = data[data['polarity'] != 'conflict']\n",
    "data = data.drop(columns=\"polarity\")\n",
    "\n",
    "data_train, data_test = train_test_split(data, test_size=0.25)\n",
    "\n"
   ],
   "metadata": {
    "collapsed": false,
    "ExecuteTime": {
     "end_time": "2024-07-19T12:22:01.347312Z",
     "start_time": "2024-07-19T12:22:01.331431Z"
    }
   },
   "execution_count": 7
  },
  {
   "cell_type": "markdown",
   "metadata": {
    "colab_type": "text",
    "id": "33Sa8kVvYnWR"
   },
   "source": [
    "## 1. Import Data"
   ]
  },
  {
   "cell_type": "code",
   "outputs": [
    {
     "data": {
      "text/plain": "                                                   Text   Emotion\n1308  The bruscetta is a bit soggy, but the salads w...     Anger\n1886  The one vegetarian entree (Abby's treasure) wa...  Surprise\n2511  However, being foodies, we were utterly disapp...     Anger\n3683  The place is small and cramped(1) but the food...       Joy\n3099  then she made a fuss about not being able to a...  Surprise\n...                                                 ...       ...\n1207  I had the cod with paella (spicy and very fill...       Joy\n692   I recommend the garlic shrimp, okra (bindi), a...       Joy\n2604  We been there and we really enjoy(1) the food,...       Joy\n568   However, they've got the most amazing pastrami...  Surprise\n988   The decor is vibrant and eye-pleasing with sev...       Joy\n\n[3545 rows x 2 columns]",
      "text/html": "<div>\n<style scoped>\n    .dataframe tbody tr th:only-of-type {\n        vertical-align: middle;\n    }\n\n    .dataframe tbody tr th {\n        vertical-align: top;\n    }\n\n    .dataframe thead th {\n        text-align: right;\n    }\n</style>\n<table border=\"1\" class=\"dataframe\">\n  <thead>\n    <tr style=\"text-align: right;\">\n      <th></th>\n      <th>Text</th>\n      <th>Emotion</th>\n    </tr>\n  </thead>\n  <tbody>\n    <tr>\n      <th>1308</th>\n      <td>The bruscetta is a bit soggy, but the salads w...</td>\n      <td>Anger</td>\n    </tr>\n    <tr>\n      <th>1886</th>\n      <td>The one vegetarian entree (Abby's treasure) wa...</td>\n      <td>Surprise</td>\n    </tr>\n    <tr>\n      <th>2511</th>\n      <td>However, being foodies, we were utterly disapp...</td>\n      <td>Anger</td>\n    </tr>\n    <tr>\n      <th>3683</th>\n      <td>The place is small and cramped(1) but the food...</td>\n      <td>Joy</td>\n    </tr>\n    <tr>\n      <th>3099</th>\n      <td>then she made a fuss about not being able to a...</td>\n      <td>Surprise</td>\n    </tr>\n    <tr>\n      <th>...</th>\n      <td>...</td>\n      <td>...</td>\n    </tr>\n    <tr>\n      <th>1207</th>\n      <td>I had the cod with paella (spicy and very fill...</td>\n      <td>Joy</td>\n    </tr>\n    <tr>\n      <th>692</th>\n      <td>I recommend the garlic shrimp, okra (bindi), a...</td>\n      <td>Joy</td>\n    </tr>\n    <tr>\n      <th>2604</th>\n      <td>We been there and we really enjoy(1) the food,...</td>\n      <td>Joy</td>\n    </tr>\n    <tr>\n      <th>568</th>\n      <td>However, they've got the most amazing pastrami...</td>\n      <td>Surprise</td>\n    </tr>\n    <tr>\n      <th>988</th>\n      <td>The decor is vibrant and eye-pleasing with sev...</td>\n      <td>Joy</td>\n    </tr>\n  </tbody>\n</table>\n<p>3545 rows × 2 columns</p>\n</div>"
     },
     "execution_count": 10,
     "metadata": {},
     "output_type": "execute_result"
    }
   ],
   "source": [
    "data_train"
   ],
   "metadata": {
    "collapsed": false,
    "ExecuteTime": {
     "end_time": "2024-07-19T12:22:01.482547Z",
     "start_time": "2024-07-19T12:22:01.439349Z"
    }
   },
   "execution_count": 10
  },
  {
   "cell_type": "code",
   "outputs": [
    {
     "data": {
      "text/plain": "                                                   Text Emotion\n1321  Waiters tend to forget drinks completely, food...   Anger\n2914        Save room for deserts - they're to die for.     Joy\n1714  While we enjoyed the food, we were highly disa...   Anger\n3953  The service is descent(1) even when this small...     Joy\n312   Try their plain pizza with fresh garlic or egg...     Joy\n...                                                 ...     ...\n3559  The food itself was just ok - nothing spectacu...     Joy\n1272  Nha Trang, while being notorious for utter lac...   Anger\n1479  Delicious food at a great price but do not go ...     Joy\n1105  The food is delicious and beautifully prepared...     Joy\n2098  The food was below average, the service was pa...   Anger\n\n[1182 rows x 2 columns]",
      "text/html": "<div>\n<style scoped>\n    .dataframe tbody tr th:only-of-type {\n        vertical-align: middle;\n    }\n\n    .dataframe tbody tr th {\n        vertical-align: top;\n    }\n\n    .dataframe thead th {\n        text-align: right;\n    }\n</style>\n<table border=\"1\" class=\"dataframe\">\n  <thead>\n    <tr style=\"text-align: right;\">\n      <th></th>\n      <th>Text</th>\n      <th>Emotion</th>\n    </tr>\n  </thead>\n  <tbody>\n    <tr>\n      <th>1321</th>\n      <td>Waiters tend to forget drinks completely, food...</td>\n      <td>Anger</td>\n    </tr>\n    <tr>\n      <th>2914</th>\n      <td>Save room for deserts - they're to die for.</td>\n      <td>Joy</td>\n    </tr>\n    <tr>\n      <th>1714</th>\n      <td>While we enjoyed the food, we were highly disa...</td>\n      <td>Anger</td>\n    </tr>\n    <tr>\n      <th>3953</th>\n      <td>The service is descent(1) even when this small...</td>\n      <td>Joy</td>\n    </tr>\n    <tr>\n      <th>312</th>\n      <td>Try their plain pizza with fresh garlic or egg...</td>\n      <td>Joy</td>\n    </tr>\n    <tr>\n      <th>...</th>\n      <td>...</td>\n      <td>...</td>\n    </tr>\n    <tr>\n      <th>3559</th>\n      <td>The food itself was just ok - nothing spectacu...</td>\n      <td>Joy</td>\n    </tr>\n    <tr>\n      <th>1272</th>\n      <td>Nha Trang, while being notorious for utter lac...</td>\n      <td>Anger</td>\n    </tr>\n    <tr>\n      <th>1479</th>\n      <td>Delicious food at a great price but do not go ...</td>\n      <td>Joy</td>\n    </tr>\n    <tr>\n      <th>1105</th>\n      <td>The food is delicious and beautifully prepared...</td>\n      <td>Joy</td>\n    </tr>\n    <tr>\n      <th>2098</th>\n      <td>The food was below average, the service was pa...</td>\n      <td>Anger</td>\n    </tr>\n  </tbody>\n</table>\n<p>1182 rows × 2 columns</p>\n</div>"
     },
     "execution_count": 11,
     "metadata": {},
     "output_type": "execute_result"
    }
   ],
   "source": [
    "data_test"
   ],
   "metadata": {
    "collapsed": false,
    "ExecuteTime": {
     "end_time": "2024-07-19T12:22:01.517011Z",
     "start_time": "2024-07-19T12:22:01.490535Z"
    }
   },
   "execution_count": 11
  },
  {
   "cell_type": "code",
   "outputs": [
    {
     "name": "stdout",
     "output_type": "stream",
     "text": [
      "size of training set: 3545\n",
      "size of validation set: 1182\n",
      "Emotion\n",
      "Joy         3062\n",
      "Anger       1470\n",
      "Surprise     195\n",
      "Name: count, dtype: int64\n"
     ]
    },
    {
     "data": {
      "text/plain": "                                                   Text   Emotion\n0     The bruscetta is a bit soggy, but the salads w...     Anger\n1     The one vegetarian entree (Abby's treasure) wa...  Surprise\n2     However, being foodies, we were utterly disapp...     Anger\n3     The place is small and cramped(1) but the food...       Joy\n4     then she made a fuss about not being able to a...  Surprise\n...                                                 ...       ...\n4722  The food itself was just ok - nothing spectacu...       Joy\n4723  Nha Trang, while being notorious for utter lac...     Anger\n4724  Delicious food at a great price but do not go ...       Joy\n4725  The food is delicious and beautifully prepared...       Joy\n4726  The food was below average, the service was pa...     Anger\n\n[4727 rows x 2 columns]",
      "text/html": "<div>\n<style scoped>\n    .dataframe tbody tr th:only-of-type {\n        vertical-align: middle;\n    }\n\n    .dataframe tbody tr th {\n        vertical-align: top;\n    }\n\n    .dataframe thead th {\n        text-align: right;\n    }\n</style>\n<table border=\"1\" class=\"dataframe\">\n  <thead>\n    <tr style=\"text-align: right;\">\n      <th></th>\n      <th>Text</th>\n      <th>Emotion</th>\n    </tr>\n  </thead>\n  <tbody>\n    <tr>\n      <th>0</th>\n      <td>The bruscetta is a bit soggy, but the salads w...</td>\n      <td>Anger</td>\n    </tr>\n    <tr>\n      <th>1</th>\n      <td>The one vegetarian entree (Abby's treasure) wa...</td>\n      <td>Surprise</td>\n    </tr>\n    <tr>\n      <th>2</th>\n      <td>However, being foodies, we were utterly disapp...</td>\n      <td>Anger</td>\n    </tr>\n    <tr>\n      <th>3</th>\n      <td>The place is small and cramped(1) but the food...</td>\n      <td>Joy</td>\n    </tr>\n    <tr>\n      <th>4</th>\n      <td>then she made a fuss about not being able to a...</td>\n      <td>Surprise</td>\n    </tr>\n    <tr>\n      <th>...</th>\n      <td>...</td>\n      <td>...</td>\n    </tr>\n    <tr>\n      <th>4722</th>\n      <td>The food itself was just ok - nothing spectacu...</td>\n      <td>Joy</td>\n    </tr>\n    <tr>\n      <th>4723</th>\n      <td>Nha Trang, while being notorious for utter lac...</td>\n      <td>Anger</td>\n    </tr>\n    <tr>\n      <th>4724</th>\n      <td>Delicious food at a great price but do not go ...</td>\n      <td>Joy</td>\n    </tr>\n    <tr>\n      <th>4725</th>\n      <td>The food is delicious and beautifully prepared...</td>\n      <td>Joy</td>\n    </tr>\n    <tr>\n      <th>4726</th>\n      <td>The food was below average, the service was pa...</td>\n      <td>Anger</td>\n    </tr>\n  </tbody>\n</table>\n<p>4727 rows × 2 columns</p>\n</div>"
     },
     "execution_count": 12,
     "metadata": {},
     "output_type": "execute_result"
    }
   ],
   "source": [
    "X_train = data_train.Text.tolist()\n",
    "X_test = data_test.Text.tolist()\n",
    "\n",
    "\n",
    "y_train = data_train.Emotion.tolist()\n",
    "y_test = data_test.Emotion.tolist()\n",
    "\n",
    "data = pd.concat([data_train,data_test],ignore_index=True)\n",
    "\n",
    "class_names = ['Joy','Anger', 'Surprise']\n",
    "\n",
    "print('size of training set: %s' % (len(data_train['Text'])))\n",
    "print('size of validation set: %s' % (len(data_test['Text'])))\n",
    "print(data.Emotion.value_counts())\n",
    "\n",
    "data"
   ],
   "metadata": {
    "collapsed": false,
    "ExecuteTime": {
     "end_time": "2024-07-19T12:22:01.586416Z",
     "start_time": "2024-07-19T12:22:01.523316Z"
    }
   },
   "execution_count": 12
  },
  {
   "cell_type": "code",
   "execution_count": 14,
   "metadata": {
    "colab": {},
    "colab_type": "code",
    "id": "gBxd1kYYYnWU",
    "ExecuteTime": {
     "end_time": "2024-07-19T12:22:01.663465Z",
     "start_time": "2024-07-19T12:22:01.635089Z"
    }
   },
   "outputs": [],
   "source": [
    "encoding = {'Anger': 0, 'Joy': 1, 'Surprise': 2}\n",
    "\n",
    "# Integer values for each class\n",
    "y_train = [encoding[x] for x in y_train]\n",
    "y_test = [encoding[x] for x in y_test]"
   ]
  },
  {
   "cell_type": "markdown",
   "metadata": {
    "colab_type": "text",
    "id": "pcuN5eklYnWW"
   },
   "source": [
    "## 2. Data preprocessing\n",
    "\n",
    "* The text must be preprocessed in a specific way for use with BERT. This is accomplished by setting preprocess_mode to ‘bert’. The BERT model and vocabulary will be automatically downloaded\n",
    "\n",
    "* BERT can handle a maximum length of 512, but let's use less to reduce memory and improve speed. "
   ]
  },
  {
   "cell_type": "code",
   "execution_count": 15,
   "metadata": {
    "colab": {
     "base_uri": "https://localhost:8080/",
     "height": 255
    },
    "colab_type": "code",
    "id": "IQnZnKQmZA3U",
    "outputId": "38dcedee-706f-4d32-e578-976b8b55826c",
    "ExecuteTime": {
     "end_time": "2024-07-19T12:22:09.706266Z",
     "start_time": "2024-07-19T12:22:01.669763Z"
    }
   },
   "outputs": [
    {
     "name": "stdout",
     "output_type": "stream",
     "text": [
      "preprocessing train...\n",
      "language: en\n"
     ]
    },
    {
     "data": {
      "text/plain": "<IPython.core.display.HTML object>",
      "text/html": "\n<style>\n    /* Turns off some styling */\n    progress {\n        /* gets rid of default border in Firefox and Opera. */\n        border: none;\n        /* Needs to be in here for Safari polyfill so background images work as expected. */\n        background-size: auto;\n    }\n    progress:not([value]), progress:not([value])::-webkit-progress-bar {\n        background: repeating-linear-gradient(45deg, #7e7e7e, #7e7e7e 10px, #5c5c5c 10px, #5c5c5c 20px);\n    }\n    .progress-bar-interrupted, .progress-bar-interrupted::-webkit-progress-bar {\n        background: #F44336;\n    }\n</style>\n"
     },
     "metadata": {},
     "output_type": "display_data"
    },
    {
     "data": {
      "text/plain": "<IPython.core.display.HTML object>",
      "text/html": "done."
     },
     "metadata": {},
     "output_type": "display_data"
    },
    {
     "name": "stdout",
     "output_type": "stream",
     "text": [
      "Is Multi-Label? False\n",
      "preprocessing test...\n",
      "language: en\n"
     ]
    },
    {
     "data": {
      "text/plain": "<IPython.core.display.HTML object>",
      "text/html": "\n<style>\n    /* Turns off some styling */\n    progress {\n        /* gets rid of default border in Firefox and Opera. */\n        border: none;\n        /* Needs to be in here for Safari polyfill so background images work as expected. */\n        background-size: auto;\n    }\n    progress:not([value]), progress:not([value])::-webkit-progress-bar {\n        background: repeating-linear-gradient(45deg, #7e7e7e, #7e7e7e 10px, #5c5c5c 10px, #5c5c5c 20px);\n    }\n    .progress-bar-interrupted, .progress-bar-interrupted::-webkit-progress-bar {\n        background: #F44336;\n    }\n</style>\n"
     },
     "metadata": {},
     "output_type": "display_data"
    },
    {
     "data": {
      "text/plain": "<IPython.core.display.HTML object>",
      "text/html": "done."
     },
     "metadata": {},
     "output_type": "display_data"
    },
    {
     "name": "stdout",
     "output_type": "stream",
     "text": [
      "task: text classification\n"
     ]
    }
   ],
   "source": [
    "(x_train,  y_train), (x_test, y_test), preproc = text.texts_from_array(x_train=X_train, y_train=y_train,\n",
    "                                                                       x_test=X_test, y_test=y_test,\n",
    "                                                                       class_names=class_names,\n",
    "                                                                       preprocess_mode='bert',\n",
    "                                                                       maxlen=350, \n",
    "                                                                       max_features=35000)\n"
   ]
  },
  {
   "cell_type": "code",
   "outputs": [
    {
     "data": {
      "text/plain": "[array([[  101,  1996,  7987, ...,  3256,  4059,   102],\n        [  101,  1996,  2028, ...,  2019, 26285,   102],\n        [  101,  2174,  1010, ...,     0,     0,     0],\n        ...,\n        [  101,  2057,  2042, ...,  2428,  2204,   102],\n        [  101,  2174,  1010, ...,     0,     0,     0],\n        [  101,  1996, 25545, ...,  2307,  2005,   102]]),\n array([[0, 0, 0, ..., 0, 0, 0],\n        [0, 0, 0, ..., 0, 0, 0],\n        [0, 0, 0, ..., 0, 0, 0],\n        ...,\n        [0, 0, 0, ..., 0, 0, 0],\n        [0, 0, 0, ..., 0, 0, 0],\n        [0, 0, 0, ..., 0, 0, 0]])]"
     },
     "execution_count": 16,
     "metadata": {},
     "output_type": "execute_result"
    }
   ],
   "source": [
    "x_train"
   ],
   "metadata": {
    "collapsed": false,
    "ExecuteTime": {
     "end_time": "2024-07-19T12:22:09.737660Z",
     "start_time": "2024-07-19T12:22:09.711503Z"
    }
   },
   "execution_count": 16
  },
  {
   "cell_type": "markdown",
   "metadata": {
    "colab_type": "text",
    "id": "V4fuvHPnYnWY"
   },
   "source": [
    "## 2. Training and validation\n"
   ]
  },
  {
   "cell_type": "markdown",
   "metadata": {
    "colab_type": "text",
    "id": "1KwBXM9BYnWZ"
   },
   "source": [
    "Loading the pretrained BERT for text classification "
   ]
  },
  {
   "cell_type": "code",
   "execution_count": 17,
   "metadata": {
    "colab": {
     "base_uri": "https://localhost:8080/",
     "height": 68
    },
    "colab_type": "code",
    "id": "1cGb2CaOZBNS",
    "outputId": "4d05d637-9692-45e3-8ada-0dab9603480e",
    "ExecuteTime": {
     "end_time": "2024-07-19T12:22:24.703025Z",
     "start_time": "2024-07-19T12:22:09.741659Z"
    }
   },
   "outputs": [
    {
     "name": "stdout",
     "output_type": "stream",
     "text": [
      "Is Multi-Label? False\n",
      "maxlen is 30\n"
     ]
    },
    {
     "name": "stderr",
     "output_type": "stream",
     "text": [
      "C:\\Users\\hp\\PycharmProjects\\HealthRiskPredictor\\.venv\\Lib\\site-packages\\tf_keras\\src\\initializers\\initializers.py:121: UserWarning: The initializer GlorotNormal is unseeded and being called multiple times, which will return identical values each time (even if the initializer is unseeded). Please update your code to provide a seed to the initializer, or avoid using the same initializer instance more than once.\n",
      "  warnings.warn(\n"
     ]
    },
    {
     "name": "stdout",
     "output_type": "stream",
     "text": [
      "done.\n"
     ]
    }
   ],
   "source": [
    "model = text.text_classifier('bert', train_data=(x_train, y_train), preproc=preproc)"
   ]
  },
  {
   "cell_type": "markdown",
   "metadata": {
    "colab_type": "text",
    "id": "JkgvS2pvYnWb"
   },
   "source": [
    "Wrap it in a Learner object"
   ]
  },
  {
   "cell_type": "code",
   "execution_count": 18,
   "metadata": {
    "colab": {},
    "colab_type": "code",
    "id": "zu8uv-xKYnWc",
    "ExecuteTime": {
     "end_time": "2024-07-19T12:22:33.040350Z",
     "start_time": "2024-07-19T12:22:29.800168Z"
    }
   },
   "outputs": [],
   "source": [
    "learner = ktrain.get_learner(model, train_data=(x_train, y_train), \n",
    "                             val_data=(x_test, y_test),\n",
    "                             batch_size=6)"
   ]
  },
  {
   "cell_type": "markdown",
   "metadata": {
    "colab_type": "text",
    "id": "h4YY0JBAYnWd"
   },
   "source": [
    "Train the model. More about tuning learning rates [here](https://github.com/amaiya/ktrain/blob/master/tutorial-02-tuning-learning-rates.ipynb)"
   ]
  },
  {
   "cell_type": "code",
   "execution_count": 19,
   "metadata": {
    "colab": {
     "base_uri": "https://localhost:8080/",
     "height": 224
    },
    "colab_type": "code",
    "id": "jD-2RpgkZN_n",
    "outputId": "74ab6af9-e127-44b2-bb14-eb23b3ed17d3",
    "ExecuteTime": {
     "end_time": "2024-07-19T12:47:52.795329Z",
     "start_time": "2024-07-19T12:22:33.045528Z"
    }
   },
   "outputs": [
    {
     "name": "stdout",
     "output_type": "stream",
     "text": [
      "\n",
      "\n",
      "begin training using onecycle policy with max lr of 2e-05...\n",
      "591/591 [==============================] - 1519s 3s/step - loss: 0.5346 - accuracy: 0.7839 - val_loss: 0.4453 - val_accuracy: 0.8503\n"
     ]
    },
    {
     "data": {
      "text/plain": "<tf_keras.src.callbacks.History at 0x1f58c5393d0>"
     },
     "execution_count": 19,
     "metadata": {},
     "output_type": "execute_result"
    }
   ],
   "source": [
    "learner.fit_onecycle(2e-5, 3)\n"
   ]
  },
  {
   "cell_type": "markdown",
   "source": [],
   "metadata": {
    "collapsed": false
   }
  },
  {
   "cell_type": "markdown",
   "metadata": {
    "colab_type": "text",
    "id": "xHhddIieYnWg"
   },
   "source": [
    "Validation"
   ]
  },
  {
   "cell_type": "code",
   "execution_count": 20,
   "metadata": {
    "colab": {
     "base_uri": "https://localhost:8080/",
     "height": 306
    },
    "colab_type": "code",
    "id": "2s4ao_e2i4ld",
    "outputId": "fd6d79ca-5d3d-41b0-86ff-a8d331e2847d",
    "ExecuteTime": {
     "end_time": "2024-07-19T12:50:03.229218Z",
     "start_time": "2024-07-19T12:48:00.043295Z"
    }
   },
   "outputs": [
    {
     "name": "stdout",
     "output_type": "stream",
     "text": [
      "37/37 [==============================] - 123s 3s/step\n",
      "              precision    recall  f1-score   support\n",
      "\n",
      "         Joy       0.78      0.85      0.81       360\n",
      "       Anger       0.89      0.92      0.90       763\n",
      "    Surprise       0.00      0.00      0.00        59\n",
      "\n",
      "    accuracy                           0.85      1182\n",
      "   macro avg       0.55      0.59      0.57      1182\n",
      "weighted avg       0.81      0.85      0.83      1182\n"
     ]
    },
    {
     "name": "stderr",
     "output_type": "stream",
     "text": [
      "C:\\Users\\hp\\PycharmProjects\\HealthRiskPredictor\\.venv\\Lib\\site-packages\\sklearn\\metrics\\_classification.py:1471: UndefinedMetricWarning: Precision and F-score are ill-defined and being set to 0.0 in labels with no predicted samples. Use `zero_division` parameter to control this behavior.\n",
      "  _warn_prf(average, modifier, msg_start, len(result))\n",
      "C:\\Users\\hp\\PycharmProjects\\HealthRiskPredictor\\.venv\\Lib\\site-packages\\sklearn\\metrics\\_classification.py:1471: UndefinedMetricWarning: Precision and F-score are ill-defined and being set to 0.0 in labels with no predicted samples. Use `zero_division` parameter to control this behavior.\n",
      "  _warn_prf(average, modifier, msg_start, len(result))\n",
      "C:\\Users\\hp\\PycharmProjects\\HealthRiskPredictor\\.venv\\Lib\\site-packages\\sklearn\\metrics\\_classification.py:1471: UndefinedMetricWarning: Precision and F-score are ill-defined and being set to 0.0 in labels with no predicted samples. Use `zero_division` parameter to control this behavior.\n",
      "  _warn_prf(average, modifier, msg_start, len(result))\n"
     ]
    },
    {
     "data": {
      "text/plain": "array([[305,  55,   0],\n       [ 63, 700,   0],\n       [ 25,  34,   0]], dtype=int64)"
     },
     "execution_count": 20,
     "metadata": {},
     "output_type": "execute_result"
    }
   ],
   "source": [
    "learner.validate(val_data=(x_test, y_test), class_names=class_names)"
   ]
  },
  {
   "cell_type": "markdown",
   "metadata": {
    "colab_type": "text",
    "id": "MI0nWZlhYnWi"
   },
   "source": [
    "#### Testing with other inputs"
   ]
  },
  {
   "cell_type": "code",
   "execution_count": 21,
   "metadata": {
    "colab": {
     "base_uri": "https://localhost:8080/",
     "height": 34
    },
    "colab_type": "code",
    "id": "6eDpFIoXjlE8",
    "outputId": "a59d84b8-ec69-4253-bfa3-7364bb791fb1",
    "ExecuteTime": {
     "end_time": "2024-07-19T12:51:48.527817Z",
     "start_time": "2024-07-19T12:51:48.481369Z"
    }
   },
   "outputs": [
    {
     "data": {
      "text/plain": "['Joy', 'Anger', 'Surprise']"
     },
     "execution_count": 21,
     "metadata": {},
     "output_type": "execute_result"
    }
   ],
   "source": [
    "predictor = ktrain.get_predictor(learner.model, preproc)\n",
    "predictor.get_classes()"
   ]
  },
  {
   "cell_type": "code",
   "execution_count": 27,
   "metadata": {
    "colab": {
     "base_uri": "https://localhost:8080/",
     "height": 34
    },
    "colab_type": "code",
    "id": "w5KQfwX8xLLu",
    "outputId": "99d2ba47-87ba-4e96-c03f-558746e91ede",
    "ExecuteTime": {
     "end_time": "2024-07-19T12:53:03.974810Z",
     "start_time": "2024-07-19T12:53:03.248094Z"
    }
   },
   "outputs": [
    {
     "name": "stdout",
     "output_type": "stream",
     "text": [
      "predicted: Joy (0.71)\n"
     ]
    }
   ],
   "source": [
    "import time \n",
    "\n",
    "message = 'Not only was the food outstanding, but the little perks were great.'\n",
    "\n",
    "start_time = time.time() \n",
    "prediction = predictor.predict(message)\n",
    "\n",
    "print('predicted: {} ({:.2f})'.format(prediction, (time.time() - start_time)))"
   ]
  },
  {
   "cell_type": "markdown",
   "metadata": {
    "colab_type": "text",
    "id": "rusM_SzpYnWm"
   },
   "source": [
    "## 4. Saving Bert model\n"
   ]
  },
  {
   "cell_type": "code",
   "execution_count": 0,
   "metadata": {
    "colab": {},
    "colab_type": "code",
    "id": "YBkGko4Sz2ef"
   },
   "outputs": [],
   "source": [
    "# let's save the predictor for later use\n",
    "predictor.save(\"models/bert_model\")"
   ]
  },
  {
   "cell_type": "markdown",
   "metadata": {
    "colab_type": "text",
    "id": "qQo2P03tYnWo"
   },
   "source": [
    "Done! to reload the predictor use: ktrain.load_predictor"
   ]
  }
 ],
 "metadata": {
  "accelerator": "GPU",
  "colab": {
   "collapsed_sections": [],
   "name": "bert.ipynb",
   "provenance": [],
   "toc_visible": true
  },
  "kernelspec": {
   "display_name": "Python 3",
   "language": "python",
   "name": "python3"
  },
  "language_info": {
   "codemirror_mode": {
    "name": "ipython",
    "version": 3
   },
   "file_extension": ".py",
   "mimetype": "text/x-python",
   "name": "python",
   "nbconvert_exporter": "python",
   "pygments_lexer": "ipython3",
   "version": "3.7.1"
  }
 },
 "nbformat": 4,
 "nbformat_minor": 1
}
